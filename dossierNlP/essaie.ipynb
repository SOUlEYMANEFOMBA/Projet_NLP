{
 "cells": [
  {
   "cell_type": "code",
   "execution_count": 1,
   "metadata": {},
   "outputs": [],
   "source": [
    "import requests # http requests\n",
    "from bs4 import BeautifulSoup # Webscrape\n",
    "from collections import defaultdict # Default dictionary: store a list with each key\n",
    "import pandas as pd     # "
   ]
  },
  {
   "cell_type": "code",
   "execution_count": 6,
   "metadata": {},
   "outputs": [
    {
     "name": "stdout",
     "output_type": "stream",
     "text": [
      "0\n"
     ]
    }
   ],
   "source": [
    "\n",
    "def extract(page):\n",
    "    # Définir les en-têtes pour la requête HTTP\n",
    "    headers = {\n",
    "    \"User-agent\": \"Mozilla/5.0 (Windows NT 10.0; Win64; x64) AppleWebKit/537.36 (KHTML, like Gecko) Chrome/125.0.0.0 Safari/537.36\"\n",
    "}\n",
    "    url = f'https://fr.indeed.com/jobs?q=data+science&l=France&start={page}'\n",
    "    r = requests.get(url, headers)\n",
    "    soup= BeautifulSoup(r.content,'html.parser')\n",
    "    \n",
    "    return soup\n",
    "\n"
   ]
  },
  {
   "cell_type": "code",
   "execution_count": null,
   "metadata": {},
   "outputs": [],
   "source": [
    "def transform(sou):\n",
    "    divs = sou.find_all('div', class_='job_seen_beacon')\n",
    "    return len(divs)\n",
    "c=extract(0)\n",
    "print(transform(c))"
   ]
  }
 ],
 "metadata": {
  "kernelspec": {
   "display_name": "souleymane",
   "language": "python",
   "name": "python3"
  },
  "language_info": {
   "codemirror_mode": {
    "name": "ipython",
    "version": 3
   },
   "file_extension": ".py",
   "mimetype": "text/x-python",
   "name": "python",
   "nbconvert_exporter": "python",
   "pygments_lexer": "ipython3",
   "version": "3.11.5"
  }
 },
 "nbformat": 4,
 "nbformat_minor": 2
}
