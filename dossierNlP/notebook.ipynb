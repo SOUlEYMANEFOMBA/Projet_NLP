{
 "cells": [
  {
   "cell_type": "code",
   "execution_count": 6,
   "metadata": {},
   "outputs": [],
   "source": [
    "import requests # http requests\n",
    "from bs4 import BeautifulSoup # Webscrape\n",
    "from collections import defaultdict # Default dictionary: store a list with each key\n",
    "import pandas as pd     # DF"
   ]
  },
  {
   "cell_type": "code",
   "execution_count": 17,
   "metadata": {},
   "outputs": [
    {
     "name": "stdout",
     "output_type": "stream",
     "text": [
      "{}\n"
     ]
    }
   ],
   "source": [
    "# Définir les en-têtes pour la requête HTTP\n",
    "headers = {\n",
    "    \"User-agent\": \"Mozilla/5.0 (Windows NT 10.0; Win64; x64) AppleWebKit/537.36 (KHTML, like Gecko) Chrome/125.0.0.0 Safari/537.36\"\n",
    "}\n",
    "\n",
    "# Demander à l'utilisateur d'entrer ses compétences et lieu de travail\n",
    "# skill = input('Entrez votre compétence : ').strip()\n",
    "# place = input('Entrez le lieu : ').strip()\n",
    "# no_of_pages = int(input('Entrez le nombre de pages à scrapper : '))\n",
    "\n",
    "# skill = \"data analyst\"\n",
    "# place = \"Chennai, Tamil Nadu\"\n",
    "# no_of_pages = 2\n",
    "\n",
    "\n",
    "\n",
    "# Liste pour stocker les informations des annonces\n",
    "indeed_posts = []\n",
    "\n",
    "for page in range(2):\n",
    "    # Connexion au site Indeed\n",
    "    # url = f'https://www.indeed.co.in/jobs?q={skill}&l={place}&sort=date&start={page * 10}'\n",
    "    url = f'https://fr.indeed.com/jobs?q=data+science&l=France&from=searchOnHP&vjk=bfddcb82dab8c74a'\n",
    "    \n",
    "    # Faire une requête GET à Indeed avec les en-têtes définis\n",
    "    response = requests.get(url, headers=headers)\n",
    "    html = response.text\n",
    "\n",
    "    # Scrapping du site web\n",
    "    soup = BeautifulSoup(html, 'html.parser')\n",
    "\n",
    "    # Point d'entrée le plus externe du HTML\n",
    "    outer_most_point = soup.find('div', attrs={'id': 'mosaic-provider-jobcards'})\n",
    "\n",
    "    if outer_most_point:\n",
    "        # Liste \"UL\" où les données sont stockées\n",
    "        for ul in outer_most_point.find_all('ul'):\n",
    "            for li in ul.find_all('li'):\n",
    "                # Titre de l'emploi\n",
    "                job_title_element = li.find('h2', {'class': 'jobTitle jobTitle-color-purple jobTitle-newJob'})\n",
    "                jobs = job_title_element.find('a').text if job_title_element else 'No Title'\n",
    "\n",
    "                # Nom de l'entreprise\n",
    "                company_element = li.find('span', {'class': 'companyName'})\n",
    "                company = company_element.text if company_element else 'No Company'\n",
    "\n",
    "                # Liens vers la description complète de l'emploi\n",
    "                link_element = li.find('a', {'class': 'jcs-JobTitle'})\n",
    "                link = link_element['href'] if link_element else 'No Link'\n",
    "\n",
    "                # Salaire si disponible\n",
    "                salary_element = li.find('div', {'class': 'attribute_snippet'})\n",
    "                salary = salary_element.text if salary_element else 'No Salary'\n",
    "\n",
    "                # Date de publication de l'offre\n",
    "                post_date_element = li.find('span', {'class': 'date'})\n",
    "                post_date = post_date_element.text if post_date_element else 'No Date'\n",
    "\n",
    "                # Ajouter toutes les informations à la liste indeed_posts\n",
    "                indeed_posts.append([company, jobs, link, salary, post_date])\n",
    "\n",
    "# Créer un dictionnaire avec les clés et une liste de valeurs à partir des annonces indeed_posts\n",
    "indeed_dict_list = defaultdict(list)\n",
    "\n",
    "# Champs pour notre DataFrame\n",
    "indeed_spec = ['Company', 'Job', 'Link', 'Salary', 'Job_Posted_Date']\n",
    "\n",
    "# Remplir le dictionnaire\n",
    "for post in indeed_posts:\n",
    "    for key, value in zip(indeed_spec, post):\n",
    "        indeed_dict_list[key].append(value)\n",
    "\n",
    "# Affichage du dictionnaire pour vérification (optionnel)\n",
    "print(dict(indeed_dict_list))"
   ]
  },
  {
   "cell_type": "code",
   "execution_count": 15,
   "metadata": {},
   "outputs": [
    {
     "data": {
      "text/plain": [
       "'<!DOCTYPE html><html lang=\"en-US\"><head><title>Just a moment...</title><meta http-equiv=\"Content-Type\" content=\"text/html; charset=UTF-8\"><meta http-equiv=\"X-UA-Compatible\" content=\"IE=Edge\"><meta name=\"robots\" content=\"noindex,nofollow\"><meta name=\"viewport\" content=\"width=device-width,initial-scale=1\"><style>*{box-sizing:border-box;margin:0;padding:0}html{line-height:1.15;-webkit-text-size-adjust:100%;color:#313131}button,html{font-family:system-ui,-apple-system,BlinkMacSystemFont,Segoe UI,Roboto,Helvetica Neue,Arial,Noto Sans,sans-serif,Apple Color Emoji,Segoe UI Emoji,Segoe UI Symbol,Noto Color Emoji}@media (prefers-color-scheme:dark){body{background-color:#222;color:#d9d9d9}body a{color:#fff}body a:hover{color:#ee730a;text-decoration:underline}body .lds-ring div{border-color:#999 transparent transparent}body .font-red{color:#b20f03}body .pow-button{background-color:#4693ff;color:#1d1d1d}body #challenge-success-text{background-image:url(data:image/svg+xml;base64,PHN2ZyB4bWxucz0iaHR0cDovL3d3dy53My5vcmcvMjAwMC9zdmciIHdpZHRoPSIzMiIgaGVpZ2h0PSIzMiIgZmlsbD0ibm9uZSIgdmlld0JveD0iMCAwIDI2IDI2Ij48cGF0aCBmaWxsPSIjZDlkOWQ5IiBkPSJNMTMgMGExMyAxMyAwIDEgMCAwIDI2IDEzIDEzIDAgMCAwIDAtMjZtMCAyNGExMSAxMSAwIDEgMSAwLTIyIDExIDExIDAgMCAxIDAgMjIiLz48cGF0aCBmaWxsPSIjZDlkOWQ5IiBkPSJtMTAuOTU1IDE2LjA1NS0zLjk1LTQuMTI1LTEuNDQ1IDEuMzg1IDUuMzcgNS42MSA5LjQ5NS05LjYtMS40Mi0xLjQwNXoiLz48L3N2Zz4=)}body #challenge-error-text{background-image:url(data:image/svg+xml;base64,PHN2ZyB4bWxucz0iaHR0cDovL3d3dy53My5vcmcvMjAwMC9zdmciIHdpZHRoPSIzMiIgaGVpZ2h0PSIzMiIgZmlsbD0ibm9uZSI+PHBhdGggZmlsbD0iI0IyMEYwMyIgZD0iTTE2IDNhMTMgMTMgMCAxIDAgMTMgMTNBMTMuMDE1IDEzLjAxNSAwIDAgMCAxNiAzbTAgMjRhMTEgMTEgMCAxIDEgMTEtMTEgMTEuMDEgMTEuMDEgMCAwIDEtMTEgMTEiLz48cGF0aCBmaWxsPSIjQjIwRjAzIiBkPSJNMTcuMDM4IDE4LjYxNUgxNC44N0wxNC41NjMgOS41aDIuNzgzem0tMS4wODQgMS40MjdxLjY2IDAgMS4wNTcuMzg4LjQwNy4zODkuNDA3Ljk5NCAwIC41OTYtLjQwNy45ODQtLjM5Ny4zOS0xLjA1Ny4zODktLjY1IDAtMS4wNTYtLjM4OS0uMzk4LS4zODktLjM5OC0uOTg0IDAtLjU5Ny4zOTgtLjk4NS40MDYtLjM5NyAxLjA1Ni0uMzk3Ii8+PC9zdmc+)}}body{display:flex;flex-direction:column;min-height:100vh}body.no-js .loading-spinner{visibility:hidden}body.no-js .challenge-running{display:none}body.dark{background-color:#222;color:#d9d9d9}body.dark a{color:#fff}body.dark a:hover{color:#ee730a;text-decoration:underline}body.dark .lds-ring div{border-color:#999 transparent transparent}body.dark .font-red{color:#b20f03}body.dark .pow-button{background-color:#4693ff;color:#1d1d1d}body.dark #challenge-success-text{background-image:url(data:image/svg+xml;base64,PHN2ZyB4bWxucz0iaHR0cDovL3d3dy53My5vcmcvMjAwMC9zdmciIHdpZHRoPSIzMiIgaGVpZ2h0PSIzMiIgZmlsbD0ibm9uZSIgdmlld0JveD0iMCAwIDI2IDI2Ij48cGF0aCBmaWxsPSIjZDlkOWQ5IiBkPSJNMTMgMGExMyAxMyAwIDEgMCAwIDI2IDEzIDEzIDAgMCAwIDAtMjZtMCAyNGExMSAxMSAwIDEgMSAwLTIyIDExIDExIDAgMCAxIDAgMjIiLz48cGF0aCBmaWxsPSIjZDlkOWQ5IiBkPSJtMTAuOTU1IDE2LjA1NS0zLjk1LTQuMTI1LTEuNDQ1IDEuMzg1IDUuMzcgNS42MSA5LjQ5NS05LjYtMS40Mi0xLjQwNXoiLz48L3N2Zz4=)}body.dark #challenge-error-text{background-image:url(data:image/svg+xml;base64,PHN2ZyB4bWxucz0iaHR0cDovL3d3dy53My5vcmcvMjAwMC9zdmciIHdpZHRoPSIzMiIgaGVpZ2h0PSIzMiIgZmlsbD0ibm9uZSI+PHBhdGggZmlsbD0iI0IyMEYwMyIgZD0iTTE2IDNhMTMgMTMgMCAxIDAgMTMgMTNBMTMuMDE1IDEzLjAxNSAwIDAgMCAxNiAzbTAgMjRhMTEgMTEgMCAxIDEgMTEtMTEgMTEuMDEgMTEuMDEgMCAwIDEtMTEgMTEiLz48cGF0aCBmaWxsPSIjQjIwRjAzIiBkPSJNMTcuMDM4IDE4LjYxNUgxNC44N0wxNC41NjMgOS41aDIuNzgzem0tMS4wODQgMS40MjdxLjY2IDAgMS4wNTcuMzg4LjQwNy4zODkuNDA3Ljk5NCAwIC41OTYtLjQwNy45ODQtLjM5Ny4zOS0xLjA1Ny4zODktLjY1IDAtMS4wNTYtLjM4OS0uMzk4LS4zODktLjM5OC0uOTg0IDAtLjU5Ny4zOTgtLjk4NS40MDYtLjM5NyAxLjA1Ni0uMzk3Ii8+PC9zdmc+)}body.light{background-color:transparent;color:#313131}body.light a{color:#0051c3}body.light a:hover{color:#ee730a;text-decoration:underline}body.light .lds-ring div{border-color:#595959 transparent transparent}body.light .font-red{color:#fc574a}body.light .pow-button{background-color:#003681;border-color:#003681;color:#fff}body.light #challenge-success-text{background-image:url(data:image/svg+xml;base64,PHN2ZyB4bWxucz0iaHR0cDovL3d3dy53My5vcmcvMjAwMC9zdmciIHdpZHRoPSIzMiIgaGVpZ2h0PSIzMiIgZmlsbD0ibm9uZSIgdmlld0JveD0iMCAwIDI2IDI2Ij48cGF0aCBmaWxsPSIjMzEzMTMxIiBkPSJNMTMgMGExMyAxMyAwIDEgMCAwIDI2IDEzIDEzIDAgMCAwIDAtMjZtMCAyNGExMSAxMSAwIDEgMSAwLTIyIDExIDExIDAgMCAxIDAgMjIiLz48cGF0aCBmaWxsPSIjMzEzMTMxIiBkPSJtMTAuOTU1IDE2LjA1NS0zLjk1LTQuMTI1LTEuNDQ1IDEuMzg1IDUuMzcgNS42MSA5LjQ5NS05LjYtMS40Mi0xLjQwNXoiLz48L3N2Zz4=)}body.light #challenge-error-text{background-image:url(data:image/svg+xml;base64,PHN2ZyB4bWxucz0iaHR0cDovL3d3dy53My5vcmcvMjAwMC9zdmciIHdpZHRoPSIzMiIgaGVpZ2h0PSIzMiIgZmlsbD0ibm9uZSI+PHBhdGggZmlsbD0iI2ZjNTc0YSIgZD0iTTE2IDNhMTMgMTMgMCAxIDAgMTMgMTNBMTMuMDE1IDEzLjAxNSAwIDAgMCAxNiAzbTAgMjRhMTEgMTEgMCAxIDEgMTEtMTEgMTEuMDEgMTEuMDEgMCAwIDEtMTEgMTEiLz48cGF0aCBmaWxsPSIjZmM1NzRhIiBkPSJNMTcuMDM4IDE4LjYxNUgxNC44N0wxNC41NjMgOS41aDIuNzgzem0tMS4wODQgMS40MjdxLjY2IDAgMS4wNTcuMzg4LjQwNy4zODkuNDA3Ljk5NCAwIC41OTYtLjQwNy45ODQtLjM5Ny4zOS0xLjA1Ny4zODktLjY1IDAtMS4wNTYtLjM4OS0uMzk4LS4zODktLjM5OC0uOTg0IDAtLjU5Ny4zOTgtLjk4NS40MDYtLjM5NyAxLjA1Ni0uMzk3Ii8+PC9zdmc+)}a{background-color:transparent;color:#0051c3;text-decoration:none;transition:color .15s ease}a:hover{color:#ee730a;text-decoration:underline}.main-content{margin:8rem auto;max-width:60rem;width:100%}.heading-favicon{height:2rem;margin-right:.5rem;width:2rem}@media (width <= 720px){.main-content{margin-top:4rem}.heading-favicon{height:1.5rem;width:1.5rem}}.footer,.main-content{padding-left:1.5rem;padding-right:1.5rem}.main-wrapper{align-items:center;display:flex;flex:1;flex-direction:column}.font-red{color:#b20f03}.spacer{margin:2rem 0}.h1{font-size:2.5rem;font-weight:500;line-height:3.75rem}.h2{font-weight:500}.core-msg,.h2{font-size:1.5rem;line-height:2.25rem}.body-text,.core-msg{font-weight:400}.body-text{font-size:1rem;line-height:1.25rem}@media (width <= 720px){.h1{font-size:1.5rem;line-height:1.75rem}.h2{font-size:1.25rem}.core-msg,.h2{line-height:1.5rem}.core-msg{font-size:1rem}}#challenge-error-text{background-image:url(data:image/svg+xml;base64,PHN2ZyB4bWxucz0iaHR0cDovL3d3dy53My5vcmcvMjAwMC9zdmciIHdpZHRoPSIzMiIgaGVpZ2h0PSIzMiIgZmlsbD0ibm9uZSI+PHBhdGggZmlsbD0iI2ZjNTc0YSIgZD0iTTE2IDNhMTMgMTMgMCAxIDAgMTMgMTNBMTMuMDE1IDEzLjAxNSAwIDAgMCAxNiAzbTAgMjRhMTEgMTEgMCAxIDEgMTEtMTEgMTEuMDEgMTEuMDEgMCAwIDEtMTEgMTEiLz48cGF0aCBmaWxsPSIjZmM1NzRhIiBkPSJNMTcuMDM4IDE4LjYxNUgxNC44N0wxNC41NjMgOS41aDIuNzgzem0tMS4wODQgMS40MjdxLjY2IDAgMS4wNTcuMzg4LjQwNy4zODkuNDA3Ljk5NCAwIC41OTYtLjQwNy45ODQtLjM5Ny4zOS0xLjA1Ny4zODktLjY1IDAtMS4wNTYtLjM4OS0uMzk4LS4zODktLjM5OC0uOTg0IDAtLjU5Ny4zOTgtLjk4NS40MDYtLjM5NyAxLjA1Ni0uMzk3Ii8+PC9zdmc+);padding-left:34px}#challenge-error-text,#challenge-success-text{background-repeat:no-repeat;background-size:contain}#challenge-success-text{background-image:url(data:image/svg+xml;base64,PHN2ZyB4bWxucz0iaHR0cDovL3d3dy53My5vcmcvMjAwMC9zdmciIHdpZHRoPSIzMiIgaGVpZ2h0PSIzMiIgZmlsbD0ibm9uZSIgdmlld0JveD0iMCAwIDI2IDI2Ij48cGF0aCBmaWxsPSIjMzEzMTMxIiBkPSJNMTMgMGExMyAxMyAwIDEgMCAwIDI2IDEzIDEzIDAgMCAwIDAtMjZtMCAyNGExMSAxMSAwIDEgMSAwLTIyIDExIDExIDAgMCAxIDAgMjIiLz48cGF0aCBmaWxsPSIjMzEzMTMxIiBkPSJtMTAuOTU1IDE2LjA1NS0zLjk1LTQuMTI1LTEuNDQ1IDEuMzg1IDUuMzcgNS42MSA5LjQ5NS05LjYtMS40Mi0xLjQwNXoiLz48L3N2Zz4=);padding-left:42px}.text-center{text-align:center}.pow-button{background-color:#0051c3;border:.063rem solid #0051c3;border-radius:.313rem;color:#fff;font-size:.875rem;line-height:1.313rem;margin:2rem 0;padding:.375rem 1rem;transition-duration:.2s;transition-property:background-color,border-color,color;transition-timing-function:ease}.pow-button:hover{background-color:#003681;border-color:#003681;color:#fff;cursor:pointer}.footer{font-size:.75rem;line-height:1.125rem;margin:0 auto;max-width:60rem;width:100%}.footer-inner{border-top:1px solid #d9d9d9;padding-bottom:1rem;padding-top:1rem}.clearfix:after{clear:both;content:\"\";display:table}.clearfix .column{float:left;padding-right:1.5rem;width:50%}.diagnostic-wrapper{margin-bottom:.5rem}.footer .ray-id{text-align:center}.footer .ray-id code{font-family:monaco,courier,monospace}.core-msg,.zone-name-title{overflow-wrap:break-word}@media (width <= 720px){.diagnostic-wrapper{display:flex;flex-wrap:wrap;justify-content:center}.clearfix:after{clear:none;content:none;display:initial;text-align:center}.column{padding-bottom:2rem}.clearfix .column{float:none;padding:0;width:auto;word-break:keep-all}.zone-name-title{margin-bottom:1rem}}.loading-spinner{height:76.391px}.lds-ring{display:inline-block;position:relative}.lds-ring,.lds-ring div{height:1.875rem;width:1.875rem}.lds-ring div{animation:lds-ring 1.2s cubic-bezier(.5,0,.5,1) infinite;border:.3rem solid transparent;border-radius:50%;border-top-color:#313131;box-sizing:border-box;display:block;position:absolute}.lds-ring div:first-child{animation-delay:-.45s}.lds-ring div:nth-child(2){animation-delay:-.3s}.lds-ring div:nth-child(3){animation-delay:-.15s}@keyframes lds-ring{0%{transform:rotate(0)}to{transform:rotate(1turn)}}@media screen and (-ms-high-contrast:active),screen and (-ms-high-contrast:none){.main-wrapper,body{display:block}}.rtl .heading-favicon{margin-left:.5rem;margin-right:0}.rtl #challenge-success-text{background-position:100%;padding-left:0;padding-right:42px}.rtl #challenge-error-text{background-position:100%;padding-left:0;padding-right:34px}</style><meta http-equiv=\"refresh\" content=\"390\"></head><body class=\"no-js\"><div class=\"main-wrapper\" role=\"main\"><div class=\"main-content\"><noscript><div id=\"challenge-error-title\"><div class=\"h2\"><span id=\"challenge-error-text\">Enable JavaScript and cookies to continue</span></div></div></noscript></div></div><script>(function(){window._cf_chl_opt={cvId: \\'3\\',cZone: \"in.indeed.com\",cType: \\'managed\\',cNounce: \\'61067\\',cRay: \\'8910ce7fb9146f17\\',cHash: \\'0f023fc834e6135\\',cUPMDTk: \"\\\\/jobs?q=data%20analyst&l=Chennai,%20Tamil%20Nadu&sort=date&start=10&__cf_chl_tk=rLhNBbmi2om0DYaQmlLoYeF2P34SKBmZ5tU9yHNGJ8Q-1717932805-0.0.1.1-4010\",cFPWv: \\'g\\',cTTimeMs: \\'1000\\',cMTimeMs: \\'390000\\',cTplV: 5,cTplB: \\'cf\\',cK: \"visitor-time\",fa: \"\\\\/jobs?q=data%20analyst&l=Chennai,%20Tamil%20Nadu&sort=date&start=10&__cf_chl_f_tk=rLhNBbmi2om0DYaQmlLoYeF2P34SKBmZ5tU9yHNGJ8Q-1717932805-0.0.1.1-4010\",md: \"bpxvyWAlrpb7eEzoGlk1MBH0OyYd15mtL9FbzK1RDbY-1717932805-1.1.1.1-_RsvMQvhhKajMNI5otVAhjToiPq60pTHXj0N33Naey8mHrgHQFeQKufabVga.YuAuVlTkpdeBcRm6IWsiQ_.eeB7SxWJ7wYTsijZLRIa7YkwXI2.R8qpa83sVPNzRjOc2OczKs3vJPRSJoKG.u6mJ5yVcPK9VXM8s.7WCwX2IynZlS6Slu4G1G5H4KKvM6YU9.16PEwJK513XMNc3vco3SqG35llG6GbckVrMLfR8RjUUfidSSrQjlh.CWi8jRoiaSR6AOOOIzpMtZYWnG.PRJtgKLZ1DIJhb3c2BPCTvk9l5CeBVYTe0cx85WC__aKMlrJj5T3U3boTnLOZCuRxz_5GHTpcPGNqylZSalrYWaJtmai3LjbuRDRVfL56NmPocpeO061F_TnqUIQnD_haHgL_SIaCnD2u51OcRoj9Z3KJRhoNxF0PUYH3AW3okJJsFiHrSxYLRnZETQbSUJQwbuJCjBQiDCEoZh2wbtAP7ymMIRVYYLrAtbYwd36PWS_vRorIzUbFJ73Zxv6gNRNDrStL7.dy__ri6b0Hgkal0LxWtl7Po6715A8IJ1LPrgyDOXjTy15ubv3QA.yPq.rZKfAbqD0FWnB68dv9qOm.lK5sUk44NDIjr0zx3NAVAbAKcg19cjztuZT.wdiY89EcwwI.85ap9ARHbRZwTAwN3fzAZjdlt.OU.uyoNgYxGFlPLKX_pnf9t_jzblytqLOu9Qob8IASjiHm8v5O8SiUvcUueF2vg0m2nAUQlUzmbeHBfi4W.wptQZUZc7XO1GKFNYbO_Npwbe8dYIi72O4ntPbZzjB6OboMKSLDxuVRgSgLUo4nvu7_OGQVhTitXcZ4AXehz5iWwTT1piW6RtJUbfbKm0uEs7qbEOlLyFQ0nQsAloyzPiEQe.vQgi6BgtC9rgTSgEsKCEFr7ZNo1NQ88jxNKZbWdo4i689lT3zWMFEzWhzdc5Ov_mtvGFZhNZpQ3MS41ye1pqrgN03LbQ9nZs0zl1fp21rsTxpC4lxUGnEYPxIa8_pE.8vGaArppeGRW5E3jGiMzJ78eoJ0cKv6TunZV7az0tUaeBdKXTDtZPdNkge2pVkdvqP4SuSudH79x.UWmYkjaoec_9..XCAQ5VLwfw3o6X8PNzpoVPu66sYsoLUekoZKXN_Y22ewvNBDTV6y2ocw15tyMAl6ziris94_OxjwBwRb3BKeBFMlqTQIjHxCJO_wj8GAhIy73jfEmYFavj0lwOknscpGShh4S9PUei.6NzzMN05.yObMZlEXkuWrbDMGUhEnBA54Xdq8WeXOzR_PFumpyWpQKMGBz1di9uWWRczX_gLb0GL6JmffMUx.P8bLPXpI9OAN5KxabgdsMJ7aYWz9uG0ebl0ENUyxoV1450C53PdQ1P4TpnARrlUibWx_tGs_2tF2CFfAtuj.lOe_Rk4gdMonNnAYmpwmxo.s8wIMeabJrR6gV3UOYRKNDqRg4IvDJZvsDbjrF05QI0gkiiJtWaA3BHi2sWOo1MiuN9ls8LxSmzHghdRMGlvRViYNs.IgFnkGMOeYTrJ8Ej_LJBtDa4MHlkgzrrI0D.QK8qGo4EOCSGift8fGUhncMviMYJvyCs9CtSehctxSAt0i6qNI39w6RatAIIdcgXutDqV72hyZJniXXMWG8oAXC8uErXuAB0B0k.6KcQ\",mdrd: \"noa9wHJ4_wTa9S9eLMlcrQ.XJPCwaWPkaYftVeQoH2g-1717932805-1.1.1.1-.ay0tAwYe3d8gs8pBCLKzXfZ8CPo_nJq4UIfPf5y.F2VnI_hCzoTJDO_9DXXows4m.FcGW_X8.JFMdr.BHEqFXABvlLIwmwxeL2L2D5w5bYyJWZREB.un0hV4yUd9LTa0sevtERRNIYPm1q8aQNiHAlg9VlNfELWM0RpRS3EsmttdMMlwYWnFJGcD9u0_s7a998nhXSRWG75OEUXmya9W06wdglI2sKZaACAFxVNZssy7z.xPdBydxzHITlFFyahxseh5UCGG7UlyXQQ7m9bGdElehnCaElJHXXbqy1Xg5kMyZpgESgTJKCpVnWedQz9SXvbGNPsQJ6ilXuidrOucIl_K0VYHs8r1_oYusYFKGLJAbkYrh59gE6FyUqC6WWy6_Iz15Fn24_xL2fTpSp2SpBAjK60Doak39Euf5G1iAI5V._hgIGih6lqn8aJbLgvTnegfniwlnIjuRKpPwnrqgfMuTDXNClX9dkzG5hCXgnVzDWR7e3_KHpik0YBxXdtDAVqR.XiJiEKVrc0T0K5opYPeScN8tRC2cjsxsQZ_S4_ydmWh98CB2mtCl6zdm468eIeufXS9P46gIxJY2VKY_jRI.sTQ1Sw0Gj1PQ8KB31I4GrKufz9VXIwQxaJbdmfK06iFCyHXnRxO7QVeJWS56jhl7iR10YfLs7Gl16p3g2n3oVlcb9sRQM4s.aOmaP4Ed9t.AMhUTmSzVvbFgie1xsCUZ3onbiE9RS9aVyyYAOtgqohTG9RJMCoT9ux2GR.jBj0Rc9DROzkzQKUAPw7BAYPsS0QwnKZAwUt.AbMiR4gNftrGw.xzpLScHVN7.TYr2SY2lXDFcXcHrBRhnXOrHEFb3rhbDRtdoZonP6astRU7sa0DAUx1jVOylzDn6gWRbpuFLDEqI_grWW0z2rpYT2_Eh5r17dgFlxvhKipWR8xlafZpWjgb1rhzevEed9iTy2STtwpN4d5hFFEzGmqexeqfsnoTtGjd0XJhadPXt8cj0Xv7xKVQSpzIhls61mgJ7QxOucIgFDAl9Zfsjf_A1nvRdtwabPVQWO4PN5F00ND6Ea1aCs7q997Uog8PKtneuGs4j.Od_dEtE5Koku29KqhcHbAZyKlNRNNTGkUCFG5OGiQ92Mk11EfVyz7Pm444.Gd0BT1UapU22mASNSevej1rKj6Fh97WRV2Twc2jNCLbghw3PqWWMM7dSZ4JzXjyQCLbinXjy49xxCWHS1JIqhEPqcgQQRMaCrgYhuahDBOk81z_aa5Qr9srnyhZDN48mibHIQ6LX3nG9F63xGI6pPwabGLiEF.zUrD3EcQ3pK_544MRH2yGLes_3STbsrM2.NSWMFkVqhHBqBOf6ZgpcUxcGRs_Fe.tsWTcyp4NVOenWSiC3K5q2qRxPNM5XcV3t1cccV6AFSG_Me5eRF9bQEOaEo0c45Y4FkvWWQIjzWW_jzLIEutpeplsfbawKTweJw9MYeBs2vFFqZf8fufzRWQm3Q1ALbihK3r2HwdGWndIJw1GWRVHQjPjLa2PTr5fTrP6ELQIqliBp7p45Q6CxwtbKic2vZrZGGbI.CHeiMTbAXLqbO9EE2C8a1S7AkmK2iA0jdJxq3ZEuyi5euR5kr1vu6BOebHoPP7tr1omPhSiDLIbatkJPBcTwz9X9RZ6.PcxBTtzGVAPbveIj8o_64NHzOclkT3bRgUggCGZ04QDA1K82GGUyG1xRyNKBhgPye1_JWK1jQgMOByZYUwMnzZIu4RPBEzcHCd.tGXRMQCzK4pnjXiEzKX1xvUYRbDuL_vGOJ_ISUcM9CjNRo4Zk7UI5d06o.2NdJEfYhaB8zZHEDgAI1x1ps.ep6tfSSi_4WgJXN_HnFUn5zBdWhiSpM3dai_nyRe7T_qNb9IlnJ8f7l1DT2VIe7mHSWeT3Z3T2myTMrfGlZBjm6YFg19MPM3cgJ1OBASa94TUL6GWucFUehOU60f5K_cL3Jx4xkVRZ9ZZJrj6mgeJiiXSbsJ.dvUsDed2PQ5Mt1_htI2ZJUtTRw.LjFP8kzfSWxK5jRQKNDOz7.XUxIJHV1Kv1yK995Rw.ShFIeSzRoXwONY9FwbbA_t_40n1.7.AxDtfhM7ZN_G5qLLlHJvrDC0YDRgE.Rg.IJfE3pkkASjdCcnGb95h04xmFWEZl9BN.oYo1k.xYlFZus3P1tfbAa_f39vfw\",cRq: {ru: \\'aHR0cHM6Ly9pbi5pbmRlZWQuY29tL2pvYnM/cT1kYXRhJTIwYW5hbHlzdCZsPUNoZW5uYWksJTIwVGFtaWwlMjBOYWR1JnNvcnQ9ZGF0ZSZzdGFydD0xMA==\\',ra: \\'TW96aWxsYS81LjAgKFdpbmRvd3MgTlQgMTAuMDsgV2luNjQ7IHg2NCkgQXBwbGVXZWJLaXQvNTM3LjM2IChLSFRNTCwgbGlrZSBHZWNrbykgQ2hyb21lLzEyNS4wLjAuMCBTYWZhcmkvNTM3LjM2\\',rm: \\'R0VU\\',d: \\'DMDW9UiZs7BprrkJI3d4Qsg7ojQNCXrv2/e1asT+//jjADAkg6a0XnmXNQEN0CAA0xq7SgGcsk88cVfd5awC3Bq1ktrtkWFDFYycBKrXVZ53OIjISVYVgO5edeMYt2tzmvTeM/DzCYGiysRqdl7IwhUeK/wuJGGryA/eF0nMkNEbo9PgPgzC/SmMZa6FTK2T0dN8wTXdZZwInNNMwXl1HC8vI2PPn/DvLp3390FsYbEDEF4azh+GkeLEpmrTNhbKRcwg+AjOc3A8FBFH5l7bCp8DONBP3LMQkQEjSBsCLtyTrtn6QmMR1AUzIKy5qfQXLD+OuZZxv1dFXxf3gTJbATxROvTFpf6p757KYuZWE0GgYGDYQIVQpfs0/Zwwjj9i2MXsMSp8e2c3nwmwM6xD5mad3lJlzU3BqrTtbUSY72jMWwNIBwnuzDLMNYzYkfU2uOufSRGh/CjzyjZLEUmpCugZcyVY/ZDLzbixPL11mJwMMeRCC8pn1CnFcMQyROidRV02xu7ycn4wfJCbUlG9LNIfjhk3gpvHZzVH9KRfhbO9KZP+JJ3kzcnFfkndnjwe\\',t: \\'MTcxNzkzMjgwNS4wMDAwMDA=\\',cT: Math.floor(Date.now() / 1000),m: \\'G5TOd2lxyG04TRU6YDt1DNQOx4QOxZs5so5aL46wO4s=\\',i1: \\'DkX3JgsInnnNTQnCrb5Xow==\\',i2: \\'Lsh+tia7KOW4v4f3B5L5uA==\\',zh: \\'2kfjrLYfAVNem19Lin3oP+VKo7ladb55se1eVtiLLnQ=\\',uh: \\'thCBy90zqmBonn2dYlU/D+MzVlbuUEXEmRt0jJlmUpg=\\',hh: \\'kUYHEl0zk3i+74OOEWwmnbBoUjF7XhVtDyrwHPwh8do=\\',}};var cpo = document.createElement(\\'script\\');cpo.src = \\'/cdn-cgi/challenge-platform/h/g/orchestrate/chl_page/v1?ray=8910ce7fb9146f17\\';window._cf_chl_opt.cOgUHash = location.hash === \\'\\' && location.href.indexOf(\\'#\\') !== -1 ? \\'#\\' : location.hash;window._cf_chl_opt.cOgUQuery = location.search === \\'\\' && location.href.slice(0, location.href.length - window._cf_chl_opt.cOgUHash.length).indexOf(\\'?\\') !== -1 ? \\'?\\' : location.search;if (window.history && window.history.replaceState) {var ogU = location.pathname + window._cf_chl_opt.cOgUQuery + window._cf_chl_opt.cOgUHash;history.replaceState(null, null, \"\\\\/jobs?q=data%20analyst&l=Chennai,%20Tamil%20Nadu&sort=date&start=10&__cf_chl_rt_tk=rLhNBbmi2om0DYaQmlLoYeF2P34SKBmZ5tU9yHNGJ8Q-1717932805-0.0.1.1-4010\" + window._cf_chl_opt.cOgUHash);cpo.onload = function() {history.replaceState(null, null, ogU);}}document.getElementsByTagName(\\'head\\')[0].appendChild(cpo);}());</script></body></html>'"
      ]
     },
     "execution_count": 15,
     "metadata": {},
     "output_type": "execute_result"
    }
   ],
   "source": [
    "indeed_posts\n",
    "html"
   ]
  }
 ],
 "metadata": {
  "kernelspec": {
   "display_name": "souleymane",
   "language": "python",
   "name": "python3"
  },
  "language_info": {
   "codemirror_mode": {
    "name": "ipython",
    "version": 3
   },
   "file_extension": ".py",
   "mimetype": "text/x-python",
   "name": "python",
   "nbconvert_exporter": "python",
   "pygments_lexer": "ipython3",
   "version": "3.11.5"
  }
 },
 "nbformat": 4,
 "nbformat_minor": 2
}
